{
 "cells": [
  {
   "cell_type": "code",
   "execution_count": 1,
   "id": "398b073e",
   "metadata": {
    "_cell_guid": "b1076dfc-b9ad-4769-8c92-a6c4dae69d19",
    "_uuid": "8f2839f25d086af736a60e9eeb907d3b93b6e0e5",
    "execution": {
     "iopub.execute_input": "2022-12-08T02:30:51.051038Z",
     "iopub.status.busy": "2022-12-08T02:30:51.049652Z",
     "iopub.status.idle": "2022-12-08T02:30:51.070319Z",
     "shell.execute_reply": "2022-12-08T02:30:51.069374Z"
    },
    "papermill": {
     "duration": 0.029787,
     "end_time": "2022-12-08T02:30:51.073006",
     "exception": false,
     "start_time": "2022-12-08T02:30:51.043219",
     "status": "completed"
    },
    "tags": []
   },
   "outputs": [],
   "source": [
    "\n",
    "\n",
    "import numpy as np \n",
    "import pandas as pd \n",
    "\n",
    "\n",
    "\n"
   ]
  },
  {
   "cell_type": "code",
   "execution_count": 2,
   "id": "b4460115",
   "metadata": {
    "execution": {
     "iopub.execute_input": "2022-12-08T02:30:51.082875Z",
     "iopub.status.busy": "2022-12-08T02:30:51.081656Z",
     "iopub.status.idle": "2022-12-08T02:30:52.274193Z",
     "shell.execute_reply": "2022-12-08T02:30:52.273088Z"
    },
    "papermill": {
     "duration": 1.200079,
     "end_time": "2022-12-08T02:30:52.276980",
     "exception": false,
     "start_time": "2022-12-08T02:30:51.076901",
     "status": "completed"
    },
    "tags": []
   },
   "outputs": [],
   "source": [
    "import pandas as pd \n",
    "import numpy as np\n",
    "from sklearn.model_selection import train_test_split"
   ]
  },
  {
   "cell_type": "code",
   "execution_count": 3,
   "id": "632d1dd1",
   "metadata": {
    "execution": {
     "iopub.execute_input": "2022-12-08T02:30:52.287444Z",
     "iopub.status.busy": "2022-12-08T02:30:52.286646Z",
     "iopub.status.idle": "2022-12-08T02:30:52.340581Z",
     "shell.execute_reply": "2022-12-08T02:30:52.339314Z"
    },
    "papermill": {
     "duration": 0.061852,
     "end_time": "2022-12-08T02:30:52.343399",
     "exception": false,
     "start_time": "2022-12-08T02:30:52.281547",
     "status": "completed"
    },
    "tags": []
   },
   "outputs": [
    {
     "data": {
      "text/html": [
       "<div>\n",
       "<style scoped>\n",
       "    .dataframe tbody tr th:only-of-type {\n",
       "        vertical-align: middle;\n",
       "    }\n",
       "\n",
       "    .dataframe tbody tr th {\n",
       "        vertical-align: top;\n",
       "    }\n",
       "\n",
       "    .dataframe thead th {\n",
       "        text-align: right;\n",
       "    }\n",
       "</style>\n",
       "<table border=\"1\" class=\"dataframe\">\n",
       "  <thead>\n",
       "    <tr style=\"text-align: right;\">\n",
       "      <th></th>\n",
       "      <th>Unnamed: 0</th>\n",
       "      <th>clauses</th>\n",
       "      <th>fairness level</th>\n",
       "    </tr>\n",
       "  </thead>\n",
       "  <tbody>\n",
       "    <tr>\n",
       "      <th>0</th>\n",
       "      <td>0</td>\n",
       "      <td>['servic', 'sell', 'person', 'data']</td>\n",
       "      <td>0</td>\n",
       "    </tr>\n",
       "    <tr>\n",
       "      <th>1</th>\n",
       "      <td>1</td>\n",
       "      <td>['servic', 'warn', 'user', 'websit', 'mainten']</td>\n",
       "      <td>0</td>\n",
       "    </tr>\n",
       "    <tr>\n",
       "      <th>2</th>\n",
       "      <td>2</td>\n",
       "      <td>['request', 'access', 'delet', 'person', 'data']</td>\n",
       "      <td>0</td>\n",
       "    </tr>\n",
       "    <tr>\n",
       "      <th>3</th>\n",
       "      <td>3</td>\n",
       "      <td>['user', 'inform', 'secur', 'practic']</td>\n",
       "      <td>0</td>\n",
       "    </tr>\n",
       "    <tr>\n",
       "      <th>4</th>\n",
       "      <td>4</td>\n",
       "      <td>['servic', 'provid', 'complaint', 'mechan', 'h...</td>\n",
       "      <td>0</td>\n",
       "    </tr>\n",
       "  </tbody>\n",
       "</table>\n",
       "</div>"
      ],
      "text/plain": [
       "   Unnamed: 0                                            clauses   \n",
       "0           0               ['servic', 'sell', 'person', 'data']  \\\n",
       "1           1    ['servic', 'warn', 'user', 'websit', 'mainten']   \n",
       "2           2   ['request', 'access', 'delet', 'person', 'data']   \n",
       "3           3             ['user', 'inform', 'secur', 'practic']   \n",
       "4           4  ['servic', 'provid', 'complaint', 'mechan', 'h...   \n",
       "\n",
       "   fairness level  \n",
       "0               0  \n",
       "1               0  \n",
       "2               0  \n",
       "3               0  \n",
       "4               0  "
      ]
     },
     "execution_count": 3,
     "metadata": {},
     "output_type": "execute_result"
    }
   ],
   "source": [
    "df=pd.read_csv(\"D:/tos_dataset/ans16.1.csv\",encoding='utf8')\n",
    "\n",
    "df.head()"
   ]
  },
  {
   "cell_type": "code",
   "execution_count": null,
   "id": "d70d7229",
   "metadata": {},
   "outputs": [],
   "source": [
    "\n"
   ]
  },
  {
   "cell_type": "code",
   "execution_count": 4,
   "id": "462569ea",
   "metadata": {
    "execution": {
     "iopub.execute_input": "2022-12-08T02:30:52.353895Z",
     "iopub.status.busy": "2022-12-08T02:30:52.353168Z",
     "iopub.status.idle": "2022-12-08T02:30:52.393984Z",
     "shell.execute_reply": "2022-12-08T02:30:52.392856Z"
    },
    "papermill": {
     "duration": 0.048887,
     "end_time": "2022-12-08T02:30:52.396556",
     "exception": false,
     "start_time": "2022-12-08T02:30:52.347669",
     "status": "completed"
    },
    "tags": []
   },
   "outputs": [
    {
     "data": {
      "text/html": [
       "<div>\n",
       "<style scoped>\n",
       "    .dataframe tbody tr th:only-of-type {\n",
       "        vertical-align: middle;\n",
       "    }\n",
       "\n",
       "    .dataframe tbody tr th {\n",
       "        vertical-align: top;\n",
       "    }\n",
       "\n",
       "    .dataframe thead tr th {\n",
       "        text-align: left;\n",
       "    }\n",
       "\n",
       "    .dataframe thead tr:last-of-type th {\n",
       "        text-align: right;\n",
       "    }\n",
       "</style>\n",
       "<table border=\"1\" class=\"dataframe\">\n",
       "  <thead>\n",
       "    <tr>\n",
       "      <th></th>\n",
       "      <th colspan=\"8\" halign=\"left\">Unnamed: 0</th>\n",
       "    </tr>\n",
       "    <tr>\n",
       "      <th></th>\n",
       "      <th>count</th>\n",
       "      <th>mean</th>\n",
       "      <th>std</th>\n",
       "      <th>min</th>\n",
       "      <th>25%</th>\n",
       "      <th>50%</th>\n",
       "      <th>75%</th>\n",
       "      <th>max</th>\n",
       "    </tr>\n",
       "    <tr>\n",
       "      <th>fairness level</th>\n",
       "      <th></th>\n",
       "      <th></th>\n",
       "      <th></th>\n",
       "      <th></th>\n",
       "      <th></th>\n",
       "      <th></th>\n",
       "      <th></th>\n",
       "      <th></th>\n",
       "    </tr>\n",
       "  </thead>\n",
       "  <tbody>\n",
       "    <tr>\n",
       "      <th>0</th>\n",
       "      <td>748.0</td>\n",
       "      <td>1019.558824</td>\n",
       "      <td>460.724923</td>\n",
       "      <td>0.0</td>\n",
       "      <td>616.5</td>\n",
       "      <td>1212.5</td>\n",
       "      <td>1399.25</td>\n",
       "      <td>1586.0</td>\n",
       "    </tr>\n",
       "    <tr>\n",
       "      <th>1</th>\n",
       "      <td>839.0</td>\n",
       "      <td>591.014303</td>\n",
       "      <td>348.698747</td>\n",
       "      <td>6.0</td>\n",
       "      <td>270.5</td>\n",
       "      <td>602.0</td>\n",
       "      <td>865.50</td>\n",
       "      <td>1192.0</td>\n",
       "    </tr>\n",
       "  </tbody>\n",
       "</table>\n",
       "</div>"
      ],
      "text/plain": [
       "               Unnamed: 0                                                \n",
       "                    count         mean         std  min    25%     50%   \n",
       "fairness level                                                           \n",
       "0                   748.0  1019.558824  460.724923  0.0  616.5  1212.5  \\\n",
       "1                   839.0   591.014303  348.698747  6.0  270.5   602.0   \n",
       "\n",
       "                                 \n",
       "                    75%     max  \n",
       "fairness level                   \n",
       "0               1399.25  1586.0  \n",
       "1                865.50  1192.0  "
      ]
     },
     "execution_count": 4,
     "metadata": {},
     "output_type": "execute_result"
    }
   ],
   "source": [
    "df.groupby('fairness level').describe()"
   ]
  },
  {
   "cell_type": "code",
   "execution_count": 5,
   "id": "196f31ce",
   "metadata": {
    "execution": {
     "iopub.execute_input": "2022-12-08T02:30:52.435891Z",
     "iopub.status.busy": "2022-12-08T02:30:52.435070Z",
     "iopub.status.idle": "2022-12-08T02:30:52.712448Z",
     "shell.execute_reply": "2022-12-08T02:30:52.710907Z"
    },
    "papermill": {
     "duration": 0.285897,
     "end_time": "2022-12-08T02:30:52.715306",
     "exception": false,
     "start_time": "2022-12-08T02:30:52.429409",
     "status": "completed"
    },
    "tags": []
   },
   "outputs": [],
   "source": [
    "from sklearn.feature_extraction.text import CountVectorizer\n",
    "v=CountVectorizer()\n",
    "count=v.fit_transform(df['clauses'])\n",
    "count.toarray()\n",
    "ans=df['fairness level']"
   ]
  },
  {
   "cell_type": "code",
   "execution_count": 6,
   "id": "170b9222",
   "metadata": {
    "execution": {
     "iopub.execute_input": "2022-12-08T02:30:52.725935Z",
     "iopub.status.busy": "2022-12-08T02:30:52.725566Z",
     "iopub.status.idle": "2022-12-08T02:30:52.733628Z",
     "shell.execute_reply": "2022-12-08T02:30:52.732174Z"
    },
    "papermill": {
     "duration": 0.016304,
     "end_time": "2022-12-08T02:30:52.736160",
     "exception": false,
     "start_time": "2022-12-08T02:30:52.719856",
     "status": "completed"
    },
    "tags": []
   },
   "outputs": [],
   "source": [
    "X_train,X_test,Y_train,Y_test=train_test_split(count,ans,test_size=0.2,random_state=48,shuffle=True)"
   ]
  },
  {
   "cell_type": "code",
   "execution_count": 7,
   "id": "d9ac145c",
   "metadata": {
    "execution": {
     "iopub.execute_input": "2022-12-08T02:30:52.746843Z",
     "iopub.status.busy": "2022-12-08T02:30:52.746123Z",
     "iopub.status.idle": "2022-12-08T02:30:52.752820Z",
     "shell.execute_reply": "2022-12-08T02:30:52.751794Z"
    },
    "papermill": {
     "duration": 0.014233,
     "end_time": "2022-12-08T02:30:52.754937",
     "exception": false,
     "start_time": "2022-12-08T02:30:52.740704",
     "status": "completed"
    },
    "tags": []
   },
   "outputs": [
    {
     "data": {
      "text/plain": [
       "(318, 1914)"
      ]
     },
     "execution_count": 7,
     "metadata": {},
     "output_type": "execute_result"
    }
   ],
   "source": [
    "X_test.shape"
   ]
  },
  {
   "cell_type": "code",
   "execution_count": 8,
   "id": "ebf1c914",
   "metadata": {
    "execution": {
     "iopub.execute_input": "2022-12-08T02:30:52.766673Z",
     "iopub.status.busy": "2022-12-08T02:30:52.766303Z",
     "iopub.status.idle": "2022-12-08T02:30:52.773870Z",
     "shell.execute_reply": "2022-12-08T02:30:52.772696Z"
    },
    "papermill": {
     "duration": 0.015823,
     "end_time": "2022-12-08T02:30:52.776284",
     "exception": false,
     "start_time": "2022-12-08T02:30:52.760461",
     "status": "completed"
    },
    "tags": []
   },
   "outputs": [
    {
     "data": {
      "text/html": [
       "<style>#sk-container-id-1 {color: black;background-color: white;}#sk-container-id-1 pre{padding: 0;}#sk-container-id-1 div.sk-toggleable {background-color: white;}#sk-container-id-1 label.sk-toggleable__label {cursor: pointer;display: block;width: 100%;margin-bottom: 0;padding: 0.3em;box-sizing: border-box;text-align: center;}#sk-container-id-1 label.sk-toggleable__label-arrow:before {content: \"▸\";float: left;margin-right: 0.25em;color: #696969;}#sk-container-id-1 label.sk-toggleable__label-arrow:hover:before {color: black;}#sk-container-id-1 div.sk-estimator:hover label.sk-toggleable__label-arrow:before {color: black;}#sk-container-id-1 div.sk-toggleable__content {max-height: 0;max-width: 0;overflow: hidden;text-align: left;background-color: #f0f8ff;}#sk-container-id-1 div.sk-toggleable__content pre {margin: 0.2em;color: black;border-radius: 0.25em;background-color: #f0f8ff;}#sk-container-id-1 input.sk-toggleable__control:checked~div.sk-toggleable__content {max-height: 200px;max-width: 100%;overflow: auto;}#sk-container-id-1 input.sk-toggleable__control:checked~label.sk-toggleable__label-arrow:before {content: \"▾\";}#sk-container-id-1 div.sk-estimator input.sk-toggleable__control:checked~label.sk-toggleable__label {background-color: #d4ebff;}#sk-container-id-1 div.sk-label input.sk-toggleable__control:checked~label.sk-toggleable__label {background-color: #d4ebff;}#sk-container-id-1 input.sk-hidden--visually {border: 0;clip: rect(1px 1px 1px 1px);clip: rect(1px, 1px, 1px, 1px);height: 1px;margin: -1px;overflow: hidden;padding: 0;position: absolute;width: 1px;}#sk-container-id-1 div.sk-estimator {font-family: monospace;background-color: #f0f8ff;border: 1px dotted black;border-radius: 0.25em;box-sizing: border-box;margin-bottom: 0.5em;}#sk-container-id-1 div.sk-estimator:hover {background-color: #d4ebff;}#sk-container-id-1 div.sk-parallel-item::after {content: \"\";width: 100%;border-bottom: 1px solid gray;flex-grow: 1;}#sk-container-id-1 div.sk-label:hover label.sk-toggleable__label {background-color: #d4ebff;}#sk-container-id-1 div.sk-serial::before {content: \"\";position: absolute;border-left: 1px solid gray;box-sizing: border-box;top: 0;bottom: 0;left: 50%;z-index: 0;}#sk-container-id-1 div.sk-serial {display: flex;flex-direction: column;align-items: center;background-color: white;padding-right: 0.2em;padding-left: 0.2em;position: relative;}#sk-container-id-1 div.sk-item {position: relative;z-index: 1;}#sk-container-id-1 div.sk-parallel {display: flex;align-items: stretch;justify-content: center;background-color: white;position: relative;}#sk-container-id-1 div.sk-item::before, #sk-container-id-1 div.sk-parallel-item::before {content: \"\";position: absolute;border-left: 1px solid gray;box-sizing: border-box;top: 0;bottom: 0;left: 50%;z-index: -1;}#sk-container-id-1 div.sk-parallel-item {display: flex;flex-direction: column;z-index: 1;position: relative;background-color: white;}#sk-container-id-1 div.sk-parallel-item:first-child::after {align-self: flex-end;width: 50%;}#sk-container-id-1 div.sk-parallel-item:last-child::after {align-self: flex-start;width: 50%;}#sk-container-id-1 div.sk-parallel-item:only-child::after {width: 0;}#sk-container-id-1 div.sk-dashed-wrapped {border: 1px dashed gray;margin: 0 0.4em 0.5em 0.4em;box-sizing: border-box;padding-bottom: 0.4em;background-color: white;}#sk-container-id-1 div.sk-label label {font-family: monospace;font-weight: bold;display: inline-block;line-height: 1.2em;}#sk-container-id-1 div.sk-label-container {text-align: center;}#sk-container-id-1 div.sk-container {/* jupyter's `normalize.less` sets `[hidden] { display: none; }` but bootstrap.min.css set `[hidden] { display: none !important; }` so we also need the `!important` here to be able to override the default hidden behavior on the sphinx rendered scikit-learn.org. See: https://github.com/scikit-learn/scikit-learn/issues/21755 */display: inline-block !important;position: relative;}#sk-container-id-1 div.sk-text-repr-fallback {display: none;}</style><div id=\"sk-container-id-1\" class=\"sk-top-container\"><div class=\"sk-text-repr-fallback\"><pre>MultinomialNB()</pre><b>In a Jupyter environment, please rerun this cell to show the HTML representation or trust the notebook. <br />On GitHub, the HTML representation is unable to render, please try loading this page with nbviewer.org.</b></div><div class=\"sk-container\" hidden><div class=\"sk-item\"><div class=\"sk-estimator sk-toggleable\"><input class=\"sk-toggleable__control sk-hidden--visually\" id=\"sk-estimator-id-1\" type=\"checkbox\" checked><label for=\"sk-estimator-id-1\" class=\"sk-toggleable__label sk-toggleable__label-arrow\">MultinomialNB</label><div class=\"sk-toggleable__content\"><pre>MultinomialNB()</pre></div></div></div></div></div>"
      ],
      "text/plain": [
       "MultinomialNB()"
      ]
     },
     "execution_count": 8,
     "metadata": {},
     "output_type": "execute_result"
    }
   ],
   "source": [
    "\n",
    "from sklearn.naive_bayes import MultinomialNB\n",
    "\n",
    "classifier = MultinomialNB()\n",
    "classifier.fit(X_train, Y_train)\n",
    "\n"
   ]
  },
  {
   "cell_type": "code",
   "execution_count": 9,
   "id": "8fa10060",
   "metadata": {},
   "outputs": [
    {
     "data": {
      "text/plain": [
       "array([[0, 0, 0, 0, 0, 0, 1, 0],\n",
       "       [0, 0, 0, 0, 0, 1, 0, 0],\n",
       "       [0, 1, 0, 0, 0, 0, 0, 0],\n",
       "       [0, 0, 1, 0, 0, 0, 0, 0],\n",
       "       [0, 0, 0, 0, 1, 0, 0, 0],\n",
       "       [0, 0, 0, 0, 0, 0, 0, 1],\n",
       "       [0, 0, 0, 1, 0, 0, 0, 0],\n",
       "       [1, 0, 0, 0, 0, 0, 0, 0]], dtype=int64)"
      ]
     },
     "execution_count": 9,
     "metadata": {},
     "output_type": "execute_result"
    }
   ],
   "source": [
    "trial=['thi', 'servic', 'do', 'not', 'sell', 'your', 'person', 'data']\n",
    "v=CountVectorizer()\n",
    "count=v.fit_transform(trial)\n",
    "count.toarray()\n"
   ]
  },
  {
   "cell_type": "code",
   "execution_count": null,
   "id": "faba639b",
   "metadata": {},
   "outputs": [],
   "source": []
  },
  {
   "cell_type": "code",
   "execution_count": 10,
   "id": "b8c3ce78",
   "metadata": {
    "execution": {
     "iopub.execute_input": "2022-12-08T02:30:52.787116Z",
     "iopub.status.busy": "2022-12-08T02:30:52.786722Z",
     "iopub.status.idle": "2022-12-08T02:30:52.799174Z",
     "shell.execute_reply": "2022-12-08T02:30:52.798354Z"
    },
    "papermill": {
     "duration": 0.02051,
     "end_time": "2022-12-08T02:30:52.801440",
     "exception": false,
     "start_time": "2022-12-08T02:30:52.780930",
     "status": "completed"
    },
    "tags": []
   },
   "outputs": [],
   "source": [
    "def check(row):\n",
    "    \n",
    "    text=row[\"clauses\"]\n",
    "    val=classifier.predict(text)\n",
    "    print(val,flush=True)\n",
    "    return val\n",
    "#df1[\"res\"]=df1.apply(check,axis=1)"
   ]
  },
  {
   "cell_type": "code",
   "execution_count": 11,
   "id": "a372ca66",
   "metadata": {},
   "outputs": [
    {
     "name": "stdout",
     "output_type": "stream",
     "text": [
      "  (0, 1850)\t1\n",
      "  (0, 25)\t1\n",
      "  (0, 365)\t1\n",
      "  (0, 1790)\t1\n",
      "  (0, 805)\t1\n",
      "  (0, 465)\t1\n",
      "  (0, 1156)\t1\n",
      "  (0, 1490)\t1\n",
      "  (0, 1154)\t1\n",
      "  (0, 941)\t1\n",
      "  (0, 1546)\t1\n",
      "  (0, 1094)\t1\n",
      "  (0, 1454)\t1\n",
      "  (0, 1505)\t1\n",
      "  (0, 777)\t1\n",
      "  (0, 681)\t1\n",
      "  (0, 382)\t1\n",
      "  (0, 1030)\t1\n",
      "  (0, 1434)\t1\n",
      "  (0, 979)\t1\n",
      "  (0, 1275)\t2\n",
      "  (0, 79)\t1\n",
      "  (0, 436)\t1\n",
      "  (1, 1481)\t1\n",
      "  (1, 25)\t1\n",
      "  :\t:\n",
      "  (315, 165)\t1\n",
      "  (315, 227)\t1\n",
      "  (315, 1339)\t1\n",
      "  (315, 23)\t1\n",
      "  (315, 430)\t1\n",
      "  (315, 488)\t1\n",
      "  (316, 83)\t1\n",
      "  (316, 420)\t1\n",
      "  (316, 911)\t1\n",
      "  (316, 1781)\t1\n",
      "  (316, 717)\t1\n",
      "  (316, 903)\t1\n",
      "  (316, 1655)\t1\n",
      "  (317, 1293)\t1\n",
      "  (317, 1081)\t1\n",
      "  (317, 989)\t1\n",
      "  (317, 1267)\t1\n",
      "  (317, 1079)\t1\n",
      "  (317, 49)\t1\n",
      "  (317, 75)\t1\n",
      "  (317, 1652)\t1\n",
      "  (317, 965)\t1\n",
      "  (317, 1813)\t1\n",
      "  (317, 1883)\t1\n",
      "  (317, 1363)\t1\n"
     ]
    }
   ],
   "source": [
    "print(X_test)"
   ]
  },
  {
   "cell_type": "code",
   "execution_count": 12,
   "id": "75a817dc",
   "metadata": {
    "execution": {
     "iopub.execute_input": "2022-12-08T02:30:52.812993Z",
     "iopub.status.busy": "2022-12-08T02:30:52.812619Z",
     "iopub.status.idle": "2022-12-08T02:30:52.821673Z",
     "shell.execute_reply": "2022-12-08T02:30:52.820517Z"
    },
    "papermill": {
     "duration": 0.017179,
     "end_time": "2022-12-08T02:30:52.823786",
     "exception": false,
     "start_time": "2022-12-08T02:30:52.806607",
     "status": "completed"
    },
    "tags": []
   },
   "outputs": [
    {
     "name": "stdout",
     "output_type": "stream",
     "text": [
      "0.8490566037735849\n",
      "              precision    recall  f1-score   support\n",
      "\n",
      "           0       0.88      0.82      0.85       165\n",
      "           1       0.82      0.88      0.85       153\n",
      "\n",
      "    accuracy                           0.85       318\n",
      "   macro avg       0.85      0.85      0.85       318\n",
      "weighted avg       0.85      0.85      0.85       318\n",
      "\n"
     ]
    }
   ],
   "source": [
    "from sklearn.metrics import accuracy_score, confusion_matrix, classification_report\n",
    "import matplotlib.pyplot as plt\n",
    "import seaborn as sns\n",
    "y_predict=classifier.predict(X_test)\n",
    "print(accuracy_score(Y_test, y_predict))\n",
    "print(classification_report(Y_test, y_predict))\n"
   ]
  },
  {
   "cell_type": "code",
   "execution_count": 13,
   "id": "bd59607b",
   "metadata": {},
   "outputs": [
    {
     "data": {
      "image/png": "[encoded data removed]",
      "text/plain": [
       "<Figure size 640x480 with 1 Axes>"
      ]
     },
     "metadata": {},
     "output_type": "display_data"
    }
   ],
   "source": [
    "train_sizes = np.linspace(0.1, 1.0, 10)\n",
    "train_acc = []\n",
    "test_acc = []\n",
    "for train_size in train_sizes:\n",
    "    train_size = int(train_size * X_train.shape[0])\n",
    "    X_train_subset = X_train[:train_size]\n",
    "    y_train_subset = Y_train[:train_size]\n",
    "    clf = MultinomialNB()\n",
    "    clf.fit(X_train_subset, y_train_subset)\n",
    "    train_acc.append(clf.score(X_train_subset, y_train_subset))\n",
    "    test_acc.append(clf.score(X_test, Y_test))\n",
    "\n",
    "# Plot the accuracy on the training and testing sets as a function of the training set size\n",
    "plt.plot(train_sizes, train_acc, label='Training accuracy')\n",
    "plt.plot(train_sizes, test_acc, label='Testing accuracy')\n",
    "plt.xlabel('Training set size')\n",
    "plt.ylabel('Accuracy')\n",
    "plt.title('Multinomial Naive Bayes Overfitting Check')\n",
    "plt.legend()\n",
    "plt.show()\n"
   ]
  },
  {
   "cell_type": "code",
   "execution_count": 14,
   "id": "729e758c",
   "metadata": {},
   "outputs": [
    {
     "data": {
      "image/png": "[encoded data removed]",
      "text/plain": [
       "<Figure size 640x480 with 1 Axes>"
      ]
     },
     "metadata": {},
     "output_type": "display_data"
    }
   ],
   "source": [
    "alphas = [0.001, 0.01, 0.1, 1, 10, 100, 1000]\n",
    "train_scores = []\n",
    "test_scores = []\n",
    "\n",
    "for alpha in alphas:\n",
    "    clf = MultinomialNB(alpha=alpha)\n",
    "    clf.fit(X_train, Y_train)\n",
    "    train_score = clf.score(X_train, Y_train)\n",
    "    test_score = clf.score(X_test, Y_test)\n",
    "    train_scores.append(train_score)\n",
    "    test_scores.append(test_score)\n",
    "\n",
    "\n",
    "plt.plot(alphas, train_scores, label='Train accuracy')\n",
    "plt.plot(alphas, test_scores, label='Test accuracy')\n",
    "plt.xscale('log')\n",
    "plt.xlabel('Learning Rate')\n",
    "plt.ylabel('Accuracy')\n",
    "plt.title('Multinomial Naive Bayes')\n",
    "plt.legend()\n",
    "plt.show()\n",
    "\n"
   ]
  }
 ],
 "metadata": {
  "kernelspec": {
   "display_name": "Python 3",
   "language": "python",
   "name": "python3"
  },
  "language_info": {
   "codemirror_mode": {
    "name": "ipython",
    "version": 3
   },
   "file_extension": ".py",
   "mimetype": "text/x-python",
   "name": "python",
   "nbconvert_exporter": "python",
   "pygments_lexer": "ipython3",
   "version": "3.10.9"
  },
  "papermill": {
   "default_parameters": {},
   "duration": 11.035585,
   "end_time": "2022-12-08T02:30:53.559394",
   "environment_variables": {},
   "exception": null,
   "input_path": "__notebook__.ipynb",
   "output_path": "__notebook__.ipynb",
   "parameters": {},
   "start_time": "2022-12-08T02:30:42.523809",
   "version": "2.3.4"
  }
 },
 "nbformat": 4,
 "nbformat_minor": 5
}
